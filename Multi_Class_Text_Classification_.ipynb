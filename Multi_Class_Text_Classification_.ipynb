{
  "nbformat": 4,
  "nbformat_minor": 0,
  "metadata": {
    "colab": {
      "name": "Multi-Class Text Classification .ipynb",
      "provenance": [],
      "authorship_tag": "ABX9TyNMpR8sxiznngSWwnWQAx5M",
      "include_colab_link": true
    },
    "kernelspec": {
      "name": "python3",
      "display_name": "Python 3"
    },
    "language_info": {
      "name": "python"
    }
  },
  "cells": [
    {
      "cell_type": "markdown",
      "metadata": {
        "id": "view-in-github",
        "colab_type": "text"
      },
      "source": [
        "<a href=\"https://colab.research.google.com/github/Moshekwa/MultiClass-Text-Classification/blob/main/Multi_Class_Text_Classification_.ipynb\" target=\"_parent\"><img src=\"https://colab.research.google.com/assets/colab-badge.svg\" alt=\"Open In Colab\"/></a>"
      ]
    },
    {
      "cell_type": "code",
      "metadata": {
        "colab": {
          "base_uri": "https://localhost:8080/"
        },
        "id": "AtMp07WjJwPz",
        "outputId": "46eae5c9-c3c6-4be9-b032-5f716a2d6f11"
      },
      "source": [
        "import nltk\n",
        "nltk.download('stopwords')\n",
        "from nltk.corpus import stopwords\n",
        "import re\n",
        "import pandas as pd\n",
        "from sklearn.feature_extraction.text import CountVectorizer, TfidfVectorizer\n",
        "from sklearn.metrics import accuracy_score"
      ],
      "execution_count": 1,
      "outputs": [
        {
          "output_type": "stream",
          "name": "stdout",
          "text": [
            "[nltk_data] Downloading package stopwords to /root/nltk_data...\n",
            "[nltk_data]   Unzipping corpora/stopwords.zip.\n"
          ]
        }
      ]
    },
    {
      "cell_type": "code",
      "metadata": {
        "id": "awwFvd5gwC9j"
      },
      "source": [
        "df = pd.read_excel('/content/WorkingsWinbackSentiments.xlsx')"
      ],
      "execution_count": 2,
      "outputs": []
    },
    {
      "cell_type": "code",
      "metadata": {
        "colab": {
          "base_uri": "https://localhost:8080/",
          "height": 626
        },
        "id": "qR9ds0uhrdjg",
        "outputId": "91d2c78b-bc5c-4f8e-c74f-52e8c8ac2f78"
      },
      "source": [
        "df.head()"
      ],
      "execution_count": 3,
      "outputs": [
        {
          "output_type": "execute_result",
          "data": {
            "text/html": [
              "<div>\n",
              "<style scoped>\n",
              "    .dataframe tbody tr th:only-of-type {\n",
              "        vertical-align: middle;\n",
              "    }\n",
              "\n",
              "    .dataframe tbody tr th {\n",
              "        vertical-align: top;\n",
              "    }\n",
              "\n",
              "    .dataframe thead th {\n",
              "        text-align: right;\n",
              "    }\n",
              "</style>\n",
              "<table border=\"1\" class=\"dataframe\">\n",
              "  <thead>\n",
              "    <tr style=\"text-align: right;\">\n",
              "      <th></th>\n",
              "      <th>Template</th>\n",
              "      <th>Membership Number</th>\n",
              "      <th>Suggestions / Compliments / Complaints</th>\n",
              "      <th>Similar Service</th>\n",
              "      <th>Affordability</th>\n",
              "      <th>Unemployed /Lost Job</th>\n",
              "      <th>No Car / Not Driving</th>\n",
              "      <th>Emigrating / Not in Country</th>\n",
              "      <th>Poor Service</th>\n",
              "      <th>Less CallOuts</th>\n",
              "      <th>Separated</th>\n",
              "      <th>Service Not Used</th>\n",
              "      <th>Not Interested</th>\n",
              "      <th>Callback Requested</th>\n",
              "      <th>Not Answered / Voice Mail</th>\n",
              "      <th>Hung Up</th>\n",
              "      <th>Invalid No</th>\n",
              "      <th>Status</th>\n",
              "      <th>Text Analysis</th>\n",
              "    </tr>\n",
              "  </thead>\n",
              "  <tbody>\n",
              "    <tr>\n",
              "      <th>0</th>\n",
              "      <td>T1</td>\n",
              "      <td>524420912</td>\n",
              "      <td>client was not answering her calls i am on the...</td>\n",
              "      <td>NaN</td>\n",
              "      <td>NaN</td>\n",
              "      <td>NaN</td>\n",
              "      <td>NaN</td>\n",
              "      <td>NaN</td>\n",
              "      <td>NaN</td>\n",
              "      <td>NaN</td>\n",
              "      <td>NaN</td>\n",
              "      <td>NaN</td>\n",
              "      <td>NaN</td>\n",
              "      <td>NaN</td>\n",
              "      <td>1.0</td>\n",
              "      <td>NaN</td>\n",
              "      <td>NaN</td>\n",
              "      <td>Closed Unsuccessful</td>\n",
              "      <td>Not Answered / Voice Mail</td>\n",
              "    </tr>\n",
              "    <tr>\n",
              "      <th>1</th>\n",
              "      <td>T1</td>\n",
              "      <td>532863208</td>\n",
              "      <td>the client is going through retrenchment and s...</td>\n",
              "      <td>NaN</td>\n",
              "      <td>NaN</td>\n",
              "      <td>1.0</td>\n",
              "      <td>NaN</td>\n",
              "      <td>NaN</td>\n",
              "      <td>NaN</td>\n",
              "      <td>NaN</td>\n",
              "      <td>NaN</td>\n",
              "      <td>NaN</td>\n",
              "      <td>NaN</td>\n",
              "      <td>NaN</td>\n",
              "      <td>NaN</td>\n",
              "      <td>NaN</td>\n",
              "      <td>NaN</td>\n",
              "      <td>Closed Successful</td>\n",
              "      <td>Unemployed /Lost Job</td>\n",
              "    </tr>\n",
              "    <tr>\n",
              "      <th>2</th>\n",
              "      <td>T1</td>\n",
              "      <td>532910451</td>\n",
              "      <td>the client is mostly  out of the country so he...</td>\n",
              "      <td>NaN</td>\n",
              "      <td>NaN</td>\n",
              "      <td>NaN</td>\n",
              "      <td>NaN</td>\n",
              "      <td>1.0</td>\n",
              "      <td>NaN</td>\n",
              "      <td>NaN</td>\n",
              "      <td>NaN</td>\n",
              "      <td>NaN</td>\n",
              "      <td>NaN</td>\n",
              "      <td>NaN</td>\n",
              "      <td>NaN</td>\n",
              "      <td>NaN</td>\n",
              "      <td>NaN</td>\n",
              "      <td>Closed Successful</td>\n",
              "      <td>Emigrating / Not in Country</td>\n",
              "    </tr>\n",
              "    <tr>\n",
              "      <th>3</th>\n",
              "      <td>T1</td>\n",
              "      <td>532974190</td>\n",
              "      <td>client is currently unemployed at the moment a...</td>\n",
              "      <td>NaN</td>\n",
              "      <td>NaN</td>\n",
              "      <td>1.0</td>\n",
              "      <td>NaN</td>\n",
              "      <td>NaN</td>\n",
              "      <td>NaN</td>\n",
              "      <td>NaN</td>\n",
              "      <td>NaN</td>\n",
              "      <td>NaN</td>\n",
              "      <td>NaN</td>\n",
              "      <td>NaN</td>\n",
              "      <td>NaN</td>\n",
              "      <td>NaN</td>\n",
              "      <td>NaN</td>\n",
              "      <td>Closed Successful</td>\n",
              "      <td>Unemployed /Lost Job</td>\n",
              "    </tr>\n",
              "    <tr>\n",
              "      <th>4</th>\n",
              "      <td>T1</td>\n",
              "      <td>532999746</td>\n",
              "      <td>client is going through a rough financial situ...</td>\n",
              "      <td>NaN</td>\n",
              "      <td>1.0</td>\n",
              "      <td>NaN</td>\n",
              "      <td>NaN</td>\n",
              "      <td>NaN</td>\n",
              "      <td>NaN</td>\n",
              "      <td>NaN</td>\n",
              "      <td>NaN</td>\n",
              "      <td>NaN</td>\n",
              "      <td>NaN</td>\n",
              "      <td>NaN</td>\n",
              "      <td>NaN</td>\n",
              "      <td>NaN</td>\n",
              "      <td>NaN</td>\n",
              "      <td>Closed Successful</td>\n",
              "      <td>Affordability</td>\n",
              "    </tr>\n",
              "  </tbody>\n",
              "</table>\n",
              "</div>"
            ],
            "text/plain": [
              "  Template  Membership Number  ...               Status                Text Analysis\n",
              "0       T1          524420912  ...  Closed Unsuccessful    Not Answered / Voice Mail\n",
              "1       T1          532863208  ...    Closed Successful         Unemployed /Lost Job\n",
              "2       T1          532910451  ...    Closed Successful  Emigrating / Not in Country\n",
              "3       T1          532974190  ...    Closed Successful         Unemployed /Lost Job\n",
              "4       T1          532999746  ...    Closed Successful                Affordability\n",
              "\n",
              "[5 rows x 19 columns]"
            ]
          },
          "metadata": {},
          "execution_count": 3
        }
      ]
    },
    {
      "cell_type": "code",
      "metadata": {
        "id": "iL2zB3uw2hAj"
      },
      "source": [
        "df = df[['Suggestions / Compliments / Complaints','Text Analysis']]"
      ],
      "execution_count": 4,
      "outputs": []
    },
    {
      "cell_type": "code",
      "metadata": {
        "colab": {
          "base_uri": "https://localhost:8080/",
          "height": 203
        },
        "id": "zJejTtLJ3MLs",
        "outputId": "0fcc1a9e-b927-4696-cb92-635ff65c6e5b"
      },
      "source": [
        "df.head()"
      ],
      "execution_count": 5,
      "outputs": [
        {
          "output_type": "execute_result",
          "data": {
            "text/html": [
              "<div>\n",
              "<style scoped>\n",
              "    .dataframe tbody tr th:only-of-type {\n",
              "        vertical-align: middle;\n",
              "    }\n",
              "\n",
              "    .dataframe tbody tr th {\n",
              "        vertical-align: top;\n",
              "    }\n",
              "\n",
              "    .dataframe thead th {\n",
              "        text-align: right;\n",
              "    }\n",
              "</style>\n",
              "<table border=\"1\" class=\"dataframe\">\n",
              "  <thead>\n",
              "    <tr style=\"text-align: right;\">\n",
              "      <th></th>\n",
              "      <th>Suggestions / Compliments / Complaints</th>\n",
              "      <th>Text Analysis</th>\n",
              "    </tr>\n",
              "  </thead>\n",
              "  <tbody>\n",
              "    <tr>\n",
              "      <th>0</th>\n",
              "      <td>client was not answering her calls i am on the...</td>\n",
              "      <td>Not Answered / Voice Mail</td>\n",
              "    </tr>\n",
              "    <tr>\n",
              "      <th>1</th>\n",
              "      <td>the client is going through retrenchment and s...</td>\n",
              "      <td>Unemployed /Lost Job</td>\n",
              "    </tr>\n",
              "    <tr>\n",
              "      <th>2</th>\n",
              "      <td>the client is mostly  out of the country so he...</td>\n",
              "      <td>Emigrating / Not in Country</td>\n",
              "    </tr>\n",
              "    <tr>\n",
              "      <th>3</th>\n",
              "      <td>client is currently unemployed at the moment a...</td>\n",
              "      <td>Unemployed /Lost Job</td>\n",
              "    </tr>\n",
              "    <tr>\n",
              "      <th>4</th>\n",
              "      <td>client is going through a rough financial situ...</td>\n",
              "      <td>Affordability</td>\n",
              "    </tr>\n",
              "  </tbody>\n",
              "</table>\n",
              "</div>"
            ],
            "text/plain": [
              "              Suggestions / Compliments / Complaints                Text Analysis\n",
              "0  client was not answering her calls i am on the...    Not Answered / Voice Mail\n",
              "1  the client is going through retrenchment and s...         Unemployed /Lost Job\n",
              "2  the client is mostly  out of the country so he...  Emigrating / Not in Country\n",
              "3  client is currently unemployed at the moment a...         Unemployed /Lost Job\n",
              "4  client is going through a rough financial situ...                Affordability"
            ]
          },
          "metadata": {},
          "execution_count": 5
        }
      ]
    },
    {
      "cell_type": "markdown",
      "metadata": {
        "id": "6ogcwpQasfHP"
      },
      "source": [
        "# Checking for NULL values and removing them"
      ]
    },
    {
      "cell_type": "code",
      "metadata": {
        "colab": {
          "base_uri": "https://localhost:8080/"
        },
        "id": "E-qYsTzzvYgb",
        "outputId": "ce89d7e9-8309-4d93-86f4-7e5791179981"
      },
      "source": [
        "df['Text Analysis'].unique()"
      ],
      "execution_count": 6,
      "outputs": [
        {
          "output_type": "execute_result",
          "data": {
            "text/plain": [
              "array(['Not Answered / Voice Mail', 'Unemployed /Lost Job',\n",
              "       'Emigrating / Not in Country', 'Affordability', 'Not Interested',\n",
              "       'Similar Service', 'No Comments', 'No Car / Not Driving',\n",
              "       'Hung Up', 'Separated', 'Poor Service', 'Callback Requested',\n",
              "       'Invalid No', 'Service Not Used', 'Less CallOuts'], dtype=object)"
            ]
          },
          "metadata": {},
          "execution_count": 6
        }
      ]
    },
    {
      "cell_type": "code",
      "metadata": {
        "colab": {
          "base_uri": "https://localhost:8080/"
        },
        "id": "OeSbshMRsgHT",
        "outputId": "45abefe8-a899-492b-baaf-1f20f20f78ec"
      },
      "source": [
        "df.isnull().sum()"
      ],
      "execution_count": 7,
      "outputs": [
        {
          "output_type": "execute_result",
          "data": {
            "text/plain": [
              "Suggestions / Compliments / Complaints    0\n",
              "Text Analysis                             0\n",
              "dtype: int64"
            ]
          },
          "metadata": {},
          "execution_count": 7
        }
      ]
    },
    {
      "cell_type": "code",
      "metadata": {
        "colab": {
          "base_uri": "https://localhost:8080/",
          "height": 417
        },
        "id": "svHOOdIwsqGx",
        "outputId": "7dd8b014-527e-4dda-b32a-f6acccc143cc"
      },
      "source": [
        "df.fillna(\"unknown\",axis=1)"
      ],
      "execution_count": 8,
      "outputs": [
        {
          "output_type": "execute_result",
          "data": {
            "text/html": [
              "<div>\n",
              "<style scoped>\n",
              "    .dataframe tbody tr th:only-of-type {\n",
              "        vertical-align: middle;\n",
              "    }\n",
              "\n",
              "    .dataframe tbody tr th {\n",
              "        vertical-align: top;\n",
              "    }\n",
              "\n",
              "    .dataframe thead th {\n",
              "        text-align: right;\n",
              "    }\n",
              "</style>\n",
              "<table border=\"1\" class=\"dataframe\">\n",
              "  <thead>\n",
              "    <tr style=\"text-align: right;\">\n",
              "      <th></th>\n",
              "      <th>Suggestions / Compliments / Complaints</th>\n",
              "      <th>Text Analysis</th>\n",
              "    </tr>\n",
              "  </thead>\n",
              "  <tbody>\n",
              "    <tr>\n",
              "      <th>0</th>\n",
              "      <td>client was not answering her calls i am on the...</td>\n",
              "      <td>Not Answered / Voice Mail</td>\n",
              "    </tr>\n",
              "    <tr>\n",
              "      <th>1</th>\n",
              "      <td>the client is going through retrenchment and s...</td>\n",
              "      <td>Unemployed /Lost Job</td>\n",
              "    </tr>\n",
              "    <tr>\n",
              "      <th>2</th>\n",
              "      <td>the client is mostly  out of the country so he...</td>\n",
              "      <td>Emigrating / Not in Country</td>\n",
              "    </tr>\n",
              "    <tr>\n",
              "      <th>3</th>\n",
              "      <td>client is currently unemployed at the moment a...</td>\n",
              "      <td>Unemployed /Lost Job</td>\n",
              "    </tr>\n",
              "    <tr>\n",
              "      <th>4</th>\n",
              "      <td>client is going through a rough financial situ...</td>\n",
              "      <td>Affordability</td>\n",
              "    </tr>\n",
              "    <tr>\n",
              "      <th>...</th>\n",
              "      <td>...</td>\n",
              "      <td>...</td>\n",
              "    </tr>\n",
              "    <tr>\n",
              "      <th>338</th>\n",
              "      <td>the member said he cancelled because he has th...</td>\n",
              "      <td>Similar Service</td>\n",
              "    </tr>\n",
              "    <tr>\n",
              "      <th>339</th>\n",
              "      <td>Client says that we must call him after 3 mont...</td>\n",
              "      <td>Unemployed /Lost Job</td>\n",
              "    </tr>\n",
              "    <tr>\n",
              "      <th>340</th>\n",
              "      <td>there are no contact details here so i didnt call</td>\n",
              "      <td>Invalid No</td>\n",
              "    </tr>\n",
              "    <tr>\n",
              "      <th>341</th>\n",
              "      <td>client says that she cant afford she says she ...</td>\n",
              "      <td>Affordability</td>\n",
              "    </tr>\n",
              "    <tr>\n",
              "      <th>342</th>\n",
              "      <td>client says that he is getting similar service...</td>\n",
              "      <td>Similar Service</td>\n",
              "    </tr>\n",
              "  </tbody>\n",
              "</table>\n",
              "<p>343 rows × 2 columns</p>\n",
              "</div>"
            ],
            "text/plain": [
              "                Suggestions / Compliments / Complaints                Text Analysis\n",
              "0    client was not answering her calls i am on the...    Not Answered / Voice Mail\n",
              "1    the client is going through retrenchment and s...         Unemployed /Lost Job\n",
              "2    the client is mostly  out of the country so he...  Emigrating / Not in Country\n",
              "3    client is currently unemployed at the moment a...         Unemployed /Lost Job\n",
              "4    client is going through a rough financial situ...                Affordability\n",
              "..                                                 ...                          ...\n",
              "338  the member said he cancelled because he has th...              Similar Service\n",
              "339  Client says that we must call him after 3 mont...         Unemployed /Lost Job\n",
              "340  there are no contact details here so i didnt call                   Invalid No\n",
              "341  client says that she cant afford she says she ...                Affordability\n",
              "342  client says that he is getting similar service...              Similar Service\n",
              "\n",
              "[343 rows x 2 columns]"
            ]
          },
          "metadata": {},
          "execution_count": 8
        }
      ]
    },
    {
      "cell_type": "code",
      "metadata": {
        "id": "l4omUNwuwSoS"
      },
      "source": [
        "#df.isnull().sum()\n",
        "#df.cuisine.unique()"
      ],
      "execution_count": 9,
      "outputs": []
    },
    {
      "cell_type": "code",
      "metadata": {
        "id": "_KBJl0_LsukU"
      },
      "source": [
        "#df.dropna(how ='all')"
      ],
      "execution_count": 10,
      "outputs": []
    },
    {
      "cell_type": "code",
      "metadata": {
        "id": "201iVsaU1HXw"
      },
      "source": [
        "#sumNan = df.isna()\n",
        "#sumNan.sum()"
      ],
      "execution_count": 11,
      "outputs": []
    },
    {
      "cell_type": "markdown",
      "metadata": {
        "id": "2ZJJKVvAuqku"
      },
      "source": [
        "# Dropping Duplicates"
      ]
    },
    {
      "cell_type": "code",
      "metadata": {
        "colab": {
          "base_uri": "https://localhost:8080/"
        },
        "id": "gg1oLa-NutyU",
        "outputId": "bf532355-e0fa-4905-e02a-6bfea9dff701"
      },
      "source": [
        "df.shape"
      ],
      "execution_count": 12,
      "outputs": [
        {
          "output_type": "execute_result",
          "data": {
            "text/plain": [
              "(343, 2)"
            ]
          },
          "metadata": {},
          "execution_count": 12
        }
      ]
    },
    {
      "cell_type": "code",
      "metadata": {
        "id": "Gm7kCjeaws2_"
      },
      "source": [
        "df.drop_duplicates(inplace=True)"
      ],
      "execution_count": 13,
      "outputs": []
    },
    {
      "cell_type": "code",
      "metadata": {
        "colab": {
          "base_uri": "https://localhost:8080/"
        },
        "id": "iHD28Wh3wxXP",
        "outputId": "8d2f4202-1347-43bc-95cb-411b443fa32c"
      },
      "source": [
        "df.shape\n"
      ],
      "execution_count": 14,
      "outputs": [
        {
          "output_type": "execute_result",
          "data": {
            "text/plain": [
              "(322, 2)"
            ]
          },
          "metadata": {},
          "execution_count": 14
        }
      ]
    },
    {
      "cell_type": "markdown",
      "metadata": {
        "id": "fsY9qLoMxSnb"
      },
      "source": [
        "# Preprocessing the text"
      ]
    },
    {
      "cell_type": "code",
      "metadata": {
        "colab": {
          "base_uri": "https://localhost:8080/"
        },
        "id": "3j7SipeaxbP0",
        "outputId": "154c88e3-d834-48fe-ffaa-9ffd95788069"
      },
      "source": [
        "print(df['Suggestions / Compliments / Complaints'].apply(lambda x: len(x.split(' '))).sum())"
      ],
      "execution_count": 15,
      "outputs": [
        {
          "output_type": "stream",
          "name": "stdout",
          "text": [
            "6066\n"
          ]
        }
      ]
    },
    {
      "cell_type": "code",
      "metadata": {
        "id": "THk4JXFQxUeo"
      },
      "source": [
        "special_character_remover = re.compile('[/(){}\\[\\]\\|@,;]')\n",
        "extra_symbol_remover = re.compile('[^0-9a-z #+_]')\n",
        "STOPWORDS = set(stopwords.words('english'))"
      ],
      "execution_count": 16,
      "outputs": []
    },
    {
      "cell_type": "markdown",
      "metadata": {
        "id": "KBAlm0ZL-59E"
      },
      "source": [
        "## Stemming and Lemmatization"
      ]
    },
    {
      "cell_type": "code",
      "metadata": {
        "id": "FZnUEF5R-9go"
      },
      "source": [
        ""
      ],
      "execution_count": 16,
      "outputs": []
    },
    {
      "cell_type": "code",
      "metadata": {
        "id": "OGQcm-7Gx31I"
      },
      "source": [
        "def clean_text(text):\n",
        "    text = text.lower()\n",
        "    text = special_character_remover.sub(' ', text)\n",
        "    text = extra_symbol_remover.sub('', text)\n",
        "    text = ' '.join(word for word in text.split() if word not in STOPWORDS)\n",
        "    return text\n",
        "    \n",
        "df['Suggestions / Compliments / Complaints'] = df['Suggestions / Compliments / Complaints'].apply(clean_text)"
      ],
      "execution_count": 17,
      "outputs": []
    },
    {
      "cell_type": "code",
      "metadata": {
        "colab": {
          "base_uri": "https://localhost:8080/"
        },
        "id": "Qbj59SI9x68a",
        "outputId": "3a343d9e-8e90-4031-a292-c50889e7ef2b"
      },
      "source": [
        "print(df['Suggestions / Compliments / Complaints'].apply(lambda x: len(x.split(' '))).sum())"
      ],
      "execution_count": 18,
      "outputs": [
        {
          "output_type": "stream",
          "name": "stdout",
          "text": [
            "2911\n"
          ]
        }
      ]
    },
    {
      "cell_type": "markdown",
      "metadata": {
        "id": "U6ZilaS_y2e4"
      },
      "source": [
        "# Train Test Split"
      ]
    },
    {
      "cell_type": "code",
      "metadata": {
        "id": "jkYFLWQzy6h5"
      },
      "source": [
        "from sklearn.model_selection import train_test_split\n",
        "X = df['Suggestions / Compliments / Complaints']\n",
        "y = df['Text Analysis']\n",
        "X_train, X_test, y_train, y_test = train_test_split(X, y, test_size=0.3, random_state = 42)"
      ],
      "execution_count": 19,
      "outputs": []
    },
    {
      "cell_type": "code",
      "metadata": {
        "colab": {
          "base_uri": "https://localhost:8080/"
        },
        "id": "KWp8lemO4Tke",
        "outputId": "8c27a711-20a4-47ed-b6aa-a3812c86e93b"
      },
      "source": [
        "X_train.shape,X_test.shape,y_train.shape,y_test.shape"
      ],
      "execution_count": 20,
      "outputs": [
        {
          "output_type": "execute_result",
          "data": {
            "text/plain": [
              "((225,), (97,), (225,), (97,))"
            ]
          },
          "metadata": {},
          "execution_count": 20
        }
      ]
    },
    {
      "cell_type": "markdown",
      "metadata": {
        "id": "6GhinUN0zxpN"
      },
      "source": [
        "# Logictic Regression"
      ]
    },
    {
      "cell_type": "code",
      "metadata": {
        "colab": {
          "base_uri": "https://localhost:8080/"
        },
        "id": "3hmO1xkWz1Q6",
        "outputId": "5fce4bca-fe89-48dc-9460-04277aeef09f"
      },
      "source": [
        "from sklearn.linear_model import LogisticRegression\n",
        "from sklearn.pipeline import Pipeline\n",
        "from sklearn.feature_extraction.text import TfidfTransformer\n",
        "\n",
        "lr = Pipeline([('vect', CountVectorizer()),('tfidf', TfidfTransformer()),('clf', LogisticRegression()),])\n",
        "\n",
        "lr.fit(X_train,y_train)\n",
        "y_pred1 = lr.predict(X_test)\n",
        "\n",
        "print(f\"Accuracy is : {accuracy_score(y_pred1,y_test)}\")"
      ],
      "execution_count": 21,
      "outputs": [
        {
          "output_type": "stream",
          "name": "stdout",
          "text": [
            "Accuracy is : 0.6391752577319587\n"
          ]
        }
      ]
    },
    {
      "cell_type": "code",
      "metadata": {
        "colab": {
          "base_uri": "https://localhost:8080/",
          "height": 128
        },
        "id": "Yn1gQ79Qp8DQ",
        "outputId": "29b5a2de-33b7-4ddd-b99c-64b2a880c9d2"
      },
      "source": [
        "from google.colab import drive\n",
        "drive.mount('/content/drive')\n",
        "\n",
        "# list the directories in the home directory\n",
        "import os\n",
        "os.listdir('.')\n",
        "g_path = '/content/data/'\n",
        "drive = '/content/drive/MyDrive/'  \n",
        "# move the sub-directory (data) into google-drive\n",
        "mv g_path drive"
      ],
      "execution_count": 37,
      "outputs": [
        {
          "output_type": "error",
          "ename": "SyntaxError",
          "evalue": "ignored",
          "traceback": [
            "\u001b[0;36m  File \u001b[0;32m\"<ipython-input-37-aabde2dc6590>\"\u001b[0;36m, line \u001b[0;32m10\u001b[0m\n\u001b[0;31m    mv g_path drive\u001b[0m\n\u001b[0m            ^\u001b[0m\n\u001b[0;31mSyntaxError\u001b[0m\u001b[0;31m:\u001b[0m invalid syntax\n"
          ]
        }
      ]
    },
    {
      "cell_type": "code",
      "metadata": {
        "colab": {
          "base_uri": "https://localhost:8080/",
          "height": 17
        },
        "id": "kzswi_XTml-9",
        "outputId": "ea73f44c-18c4-44fd-fce0-7e38a4bad31d"
      },
      "source": [
        "from sklearn.externals import joblib\n",
        "# Save the model as a pickle in a file\n",
        "joblib.dump(lr, 'filename.pkl')\n",
        "from google.colab import files\n",
        "files.download(\"filename.pkl\")\n",
        "# Load the model from the file\n",
        "#knn_from_joblib = joblib.load('filename.pkl')\n",
        " \n",
        "# Use the loaded model to make predictions\n",
        "#knn_from_joblib.predict(X_test)"
      ],
      "execution_count": 41,
      "outputs": [
        {
          "output_type": "display_data",
          "data": {
            "application/javascript": [
              "\n",
              "    async function download(id, filename, size) {\n",
              "      if (!google.colab.kernel.accessAllowed) {\n",
              "        return;\n",
              "      }\n",
              "      const div = document.createElement('div');\n",
              "      const label = document.createElement('label');\n",
              "      label.textContent = `Downloading \"${filename}\": `;\n",
              "      div.appendChild(label);\n",
              "      const progress = document.createElement('progress');\n",
              "      progress.max = size;\n",
              "      div.appendChild(progress);\n",
              "      document.body.appendChild(div);\n",
              "\n",
              "      const buffers = [];\n",
              "      let downloaded = 0;\n",
              "\n",
              "      const channel = await google.colab.kernel.comms.open(id);\n",
              "      // Send a message to notify the kernel that we're ready.\n",
              "      channel.send({})\n",
              "\n",
              "      for await (const message of channel.messages) {\n",
              "        // Send a message to notify the kernel that we're ready.\n",
              "        channel.send({})\n",
              "        if (message.buffers) {\n",
              "          for (const buffer of message.buffers) {\n",
              "            buffers.push(buffer);\n",
              "            downloaded += buffer.byteLength;\n",
              "            progress.value = downloaded;\n",
              "          }\n",
              "        }\n",
              "      }\n",
              "      const blob = new Blob(buffers, {type: 'application/binary'});\n",
              "      const a = document.createElement('a');\n",
              "      a.href = window.URL.createObjectURL(blob);\n",
              "      a.download = filename;\n",
              "      div.appendChild(a);\n",
              "      a.click();\n",
              "      div.remove();\n",
              "    }\n",
              "  "
            ],
            "text/plain": [
              "<IPython.core.display.Javascript object>"
            ]
          },
          "metadata": {}
        },
        {
          "output_type": "display_data",
          "data": {
            "application/javascript": [
              "download(\"download_3786f86d-adf1-4c39-bd5e-f51cb76f9cd9\", \"filename.pkl\", 93623)"
            ],
            "text/plain": [
              "<IPython.core.display.Javascript object>"
            ]
          },
          "metadata": {}
        }
      ]
    },
    {
      "cell_type": "markdown",
      "metadata": {
        "id": "J2jBL0Cn5GqU"
      },
      "source": [
        "# Logistic Regression Metrics"
      ]
    },
    {
      "cell_type": "code",
      "metadata": {
        "id": "CLdeI7RO7XY7"
      },
      "source": [
        "from sklearn import metrics "
      ],
      "execution_count": 22,
      "outputs": []
    },
    {
      "cell_type": "code",
      "metadata": {
        "colab": {
          "base_uri": "https://localhost:8080/"
        },
        "id": "pgeL-UE58PFS",
        "outputId": "6715f437-560c-45d1-a470-00a169e1c6a0"
      },
      "source": [
        "print (f\"Accuracy: {round(metrics.accuracy_score(y_test,y_pred1)*100,2)}%\")\n",
        "print (f\"Precision Score: {round(metrics.precision_score(y_test,y_pred1,pos_label='positive', average='micro')*100,2)}%\")\n",
        "print (f\"Recall: { round(metrics.recall_score(y_test,y_pred1,pos_label='positive',average='micro')*100,2)} %\" )\n",
        "\n",
        "print(metrics.classification_report(y_test, y_pred1))"
      ],
      "execution_count": 23,
      "outputs": [
        {
          "output_type": "stream",
          "name": "stdout",
          "text": [
            "Accuracy: 63.92%\n",
            "Precision Score: 63.92%\n",
            "Recall: 63.92 %\n",
            "                           precision    recall  f1-score   support\n",
            "\n",
            "            Affordability       0.62      0.56      0.59         9\n",
            "       Callback Requested       0.00      0.00      0.00         2\n",
            "                  Hung Up       0.50      0.40      0.44         5\n",
            "               Invalid No       1.00      0.60      0.75         5\n",
            "     No Car / Not Driving       1.00      0.60      0.75         5\n",
            "              No Comments       1.00      0.27      0.43        11\n",
            "Not Answered / Voice Mail       0.67      0.93      0.78        15\n",
            "           Not Interested       0.71      0.80      0.75        15\n",
            "             Poor Service       0.00      0.00      0.00         3\n",
            "                Separated       0.00      0.00      0.00         1\n",
            "          Similar Service       0.47      1.00      0.64        16\n",
            "     Unemployed /Lost Job       1.00      0.40      0.57        10\n",
            "\n",
            "                 accuracy                           0.64        97\n",
            "                macro avg       0.58      0.46      0.48        97\n",
            "             weighted avg       0.69      0.64      0.60        97\n",
            "\n"
          ]
        },
        {
          "output_type": "stream",
          "name": "stderr",
          "text": [
            "/usr/local/lib/python3.7/dist-packages/sklearn/metrics/_classification.py:1321: UserWarning: Note that pos_label (set to 'positive') is ignored when average != 'binary' (got 'micro'). You may use labels=[pos_label] to specify a single positive class.\n",
            "  % (pos_label, average), UserWarning)\n",
            "/usr/local/lib/python3.7/dist-packages/sklearn/metrics/_classification.py:1272: UndefinedMetricWarning: Precision and F-score are ill-defined and being set to 0.0 in labels with no predicted samples. Use `zero_division` parameter to control this behavior.\n",
            "  _warn_prf(average, modifier, msg_start, len(result))\n"
          ]
        }
      ]
    },
    {
      "cell_type": "markdown",
      "metadata": {
        "id": "-kdn3MCLEJd5"
      },
      "source": [
        "# Confusion Matrix"
      ]
    },
    {
      "cell_type": "code",
      "metadata": {
        "colab": {
          "base_uri": "https://localhost:8080/"
        },
        "id": "W_-AuKo6ENoy",
        "outputId": "2df3d0ed-c101-474f-8c32-885744b9ebfd"
      },
      "source": [
        "from sklearn.metrics import confusion_matrix\n",
        "matrix = confusion_matrix(y_test, y_pred1)\n",
        "print(matrix)"
      ],
      "execution_count": 24,
      "outputs": [
        {
          "output_type": "stream",
          "name": "stdout",
          "text": [
            "[[ 5  0  0  0  0  0  0  0  0  0  4  0]\n",
            " [ 0  0  1  0  0  0  1  0  0  0  0  0]\n",
            " [ 0  0  2  0  0  0  3  0  0  0  0  0]\n",
            " [ 0  0  0  3  0  0  2  0  0  0  0  0]\n",
            " [ 0  0  0  0  3  0  0  0  0  0  2  0]\n",
            " [ 0  0  0  0  0  3  0  3  0  0  5  0]\n",
            " [ 0  0  0  0  0  0 14  0  0  0  1  0]\n",
            " [ 0  0  1  0  0  0  0 12  0  0  2  0]\n",
            " [ 0  0  0  0  0  0  0  2  0  0  1  0]\n",
            " [ 0  0  0  0  0  0  1  0  0  0  0  0]\n",
            " [ 0  0  0  0  0  0  0  0  0  0 16  0]\n",
            " [ 3  0  0  0  0  0  0  0  0  0  3  4]]\n"
          ]
        }
      ]
    },
    {
      "cell_type": "code",
      "metadata": {
        "colab": {
          "base_uri": "https://localhost:8080/"
        },
        "id": "oYkFU8AaGQCd",
        "outputId": "9ba9930f-53d3-4f57-83cd-e84c11b08852"
      },
      "source": [
        "# Defining Accuracy as the sum of all the values in the diagonal over the total number of observations\n",
        "correctPredictions = sum(matrix[i][i] for i in range(len(matrix)))\n",
        "print(correctPredictions)\n",
        "print(f'Number of observations: {len(y_test)}')\n",
        "print(\"Accuracy: {:.2}\".format(correctPredictions / len(y_test)))"
      ],
      "execution_count": 25,
      "outputs": [
        {
          "output_type": "stream",
          "name": "stdout",
          "text": [
            "62\n",
            "Number of observations: 97\n",
            "Accuracy: 0.64\n"
          ]
        }
      ]
    },
    {
      "cell_type": "markdown",
      "metadata": {
        "id": "0zcd2i3G5Yf3"
      },
      "source": [
        "# Testing With Logistic Regression"
      ]
    },
    {
      "cell_type": "code",
      "metadata": {
        "colab": {
          "base_uri": "https://localhost:8080/"
        },
        "id": "rMysH-qi4p66",
        "outputId": "7346edb6-2c0e-469a-cf65-33eb55fae289"
      },
      "source": [
        "x = ['client is not answering the calls no matter how many times i tried to call']\n",
        "y_ = lr.predict(x)\n",
        "print(y_)"
      ],
      "execution_count": 26,
      "outputs": [
        {
          "output_type": "stream",
          "name": "stdout",
          "text": [
            "['Not Answered / Voice Mail']\n"
          ]
        }
      ]
    },
    {
      "cell_type": "markdown",
      "metadata": {
        "id": "pGk4EgtX5lP7"
      },
      "source": [
        "# Naive Bayes Classifier"
      ]
    },
    {
      "cell_type": "code",
      "metadata": {
        "colab": {
          "base_uri": "https://localhost:8080/"
        },
        "id": "RVy_gUem5pBv",
        "outputId": "43b8ae6e-86d4-49f9-f6dd-68717d868e8b"
      },
      "source": [
        "from sklearn.naive_bayes import MultinomialNB\n",
        "\n",
        "naivebayes = Pipeline([('vect', CountVectorizer()),('tfidf', TfidfTransformer()),('clf', MultinomialNB()),])\n",
        "naivebayes.fit(X_train, y_train)\n",
        "\n",
        "y_pred = naivebayes.predict(X_test)\n",
        "\n",
        "print(f'accuracy {accuracy_score(y_pred,y_test)}')"
      ],
      "execution_count": 27,
      "outputs": [
        {
          "output_type": "stream",
          "name": "stdout",
          "text": [
            "accuracy 0.4948453608247423\n"
          ]
        }
      ]
    },
    {
      "cell_type": "markdown",
      "metadata": {
        "id": "EicPSRYB8XEK"
      },
      "source": [
        "# Applying Xgboost Classifier"
      ]
    },
    {
      "cell_type": "code",
      "metadata": {
        "colab": {
          "base_uri": "https://localhost:8080/"
        },
        "id": "fe0bbtsv8SGR",
        "outputId": "63e9253d-761a-4673-f1f9-604f8ab901f0"
      },
      "source": [
        "from xgboost import XGBClassifier\n",
        "\n",
        "xgboost = Pipeline([('vect', CountVectorizer()),\n",
        "               ('tfidf', TfidfTransformer()),\n",
        "               ('clf', XGBClassifier()),\n",
        "              ])\n",
        "xgboost.fit(X_train, y_train)\n",
        "\n",
        "y_pred = xgboost.predict(X_test)\n",
        "\n",
        "print(f'accuracy {accuracy_score(y_pred,y_test)}')"
      ],
      "execution_count": 28,
      "outputs": [
        {
          "output_type": "stream",
          "name": "stdout",
          "text": [
            "accuracy 0.6494845360824743\n"
          ]
        }
      ]
    },
    {
      "cell_type": "code",
      "metadata": {
        "colab": {
          "base_uri": "https://localhost:8080/"
        },
        "id": "Oh-2nSkkCJ1P",
        "outputId": "81af4c34-66ea-44e4-e856-459f9e241e8d"
      },
      "source": [
        "x = ['Unfortunately client does not have a car at the moment']\n",
        "y_ = xgboost.predict(x)\n",
        "print(y_)"
      ],
      "execution_count": 29,
      "outputs": [
        {
          "output_type": "stream",
          "name": "stdout",
          "text": [
            "['No Car / Not Driving']\n"
          ]
        }
      ]
    },
    {
      "cell_type": "markdown",
      "metadata": {
        "id": "bhuCQ4TTM8Lo"
      },
      "source": [
        "# Save model\n",
        "import pickle\n",
        "with open('model.pkl','wb') as f:\n",
        "    pickle.dump(text_clf,f\n",
        "\n",
        "# load model    \n",
        "# load\n",
        "with open('model.pkl', 'rb') as f:\n",
        "    clf2 = pickle.load(f)\n",
        "\n",
        "docs_new = ['Ten Months After George Floyd’s Death, Minneapolis Residents Are at War Over Policing']\n",
        "predicted = clf2.predict(docs_new)\n",
        "\n",
        "v[predicted[0]]"
      ]
    }
  ]
}