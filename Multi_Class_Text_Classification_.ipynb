{
  "nbformat": 4,
  "nbformat_minor": 0,
  "metadata": {
    "colab": {
      "name": "Multi-Class Text Classification .ipynb",
      "provenance": [],
      "authorship_tag": "ABX9TyNrZ3/5P7WPt7RGKtCNP2zK",
      "include_colab_link": true
    },
    "kernelspec": {
      "name": "python3",
      "display_name": "Python 3"
    },
    "language_info": {
      "name": "python"
    }
  },
  "cells": [
    {
      "cell_type": "markdown",
      "metadata": {
        "id": "view-in-github",
        "colab_type": "text"
      },
      "source": [
        "<a href=\"https://colab.research.google.com/github/Moshekwa/MultiClass-Text-Classification/blob/main/Multi_Class_Text_Classification_.ipynb\" target=\"_parent\"><img src=\"https://colab.research.google.com/assets/colab-badge.svg\" alt=\"Open In Colab\"/></a>"
      ]
    },
    {
      "cell_type": "code",
      "metadata": {
        "colab": {
          "base_uri": "https://localhost:8080/"
        },
        "id": "AtMp07WjJwPz",
        "outputId": "d889f12f-2117-4d94-ffa9-8d7bffb82650"
      },
      "source": [
        "import nltk\n",
        "nltk.download('stopwords')\n",
        "from nltk.corpus import stopwords\n",
        "import re\n",
        "import pandas as pd\n",
        "from sklearn.feature_extraction.text import CountVectorizer, TfidfVectorizer\n",
        "from sklearn.metrics import accuracy_score"
      ],
      "execution_count": null,
      "outputs": [
        {
          "output_type": "stream",
          "name": "stdout",
          "text": [
            "[nltk_data] Downloading package stopwords to /root/nltk_data...\n",
            "[nltk_data]   Package stopwords is already up-to-date!\n"
          ]
        }
      ]
    },
    {
      "cell_type": "code",
      "metadata": {
        "id": "awwFvd5gwC9j"
      },
      "source": [
        "df = pd.read_excel('/content/WorkingsWinbackSentiments.xlsx')"
      ],
      "execution_count": null,
      "outputs": []
    },
    {
      "cell_type": "code",
      "metadata": {
        "colab": {
          "base_uri": "https://localhost:8080/",
          "height": 632
        },
        "id": "qR9ds0uhrdjg",
        "outputId": "3c06029e-5b2b-42ee-9d33-9c080571271e"
      },
      "source": [
        "df.head()"
      ],
      "execution_count": null,
      "outputs": [
        {
          "output_type": "execute_result",
          "data": {
            "text/html": [
              "<div>\n",
              "<style scoped>\n",
              "    .dataframe tbody tr th:only-of-type {\n",
              "        vertical-align: middle;\n",
              "    }\n",
              "\n",
              "    .dataframe tbody tr th {\n",
              "        vertical-align: top;\n",
              "    }\n",
              "\n",
              "    .dataframe thead th {\n",
              "        text-align: right;\n",
              "    }\n",
              "</style>\n",
              "<table border=\"1\" class=\"dataframe\">\n",
              "  <thead>\n",
              "    <tr style=\"text-align: right;\">\n",
              "      <th></th>\n",
              "      <th>Template</th>\n",
              "      <th>Membership Number</th>\n",
              "      <th>Suggestions / Compliments / Complaints</th>\n",
              "      <th>Similar Service</th>\n",
              "      <th>Affordability</th>\n",
              "      <th>Unemployed /Lost Job</th>\n",
              "      <th>No Car / Not Driving</th>\n",
              "      <th>Emigrating / Not in Country</th>\n",
              "      <th>Poor Service</th>\n",
              "      <th>Less CallOuts</th>\n",
              "      <th>Separated</th>\n",
              "      <th>Service Not Used</th>\n",
              "      <th>Not Interested</th>\n",
              "      <th>Callback Requested</th>\n",
              "      <th>Not Answered / Voice Mail</th>\n",
              "      <th>Hung Up</th>\n",
              "      <th>Invalid No</th>\n",
              "      <th>Status</th>\n",
              "      <th>Text Analysis</th>\n",
              "    </tr>\n",
              "  </thead>\n",
              "  <tbody>\n",
              "    <tr>\n",
              "      <th>0</th>\n",
              "      <td>T1</td>\n",
              "      <td>524420912</td>\n",
              "      <td>client was not answering her calls i am on the...</td>\n",
              "      <td>NaN</td>\n",
              "      <td>NaN</td>\n",
              "      <td>NaN</td>\n",
              "      <td>NaN</td>\n",
              "      <td>NaN</td>\n",
              "      <td>NaN</td>\n",
              "      <td>NaN</td>\n",
              "      <td>NaN</td>\n",
              "      <td>NaN</td>\n",
              "      <td>NaN</td>\n",
              "      <td>NaN</td>\n",
              "      <td>1.0</td>\n",
              "      <td>NaN</td>\n",
              "      <td>NaN</td>\n",
              "      <td>Closed Unsuccessful</td>\n",
              "      <td>Not Answered / Voice Mail</td>\n",
              "    </tr>\n",
              "    <tr>\n",
              "      <th>1</th>\n",
              "      <td>T1</td>\n",
              "      <td>532863208</td>\n",
              "      <td>the client is going through retrenchment and s...</td>\n",
              "      <td>NaN</td>\n",
              "      <td>NaN</td>\n",
              "      <td>1.0</td>\n",
              "      <td>NaN</td>\n",
              "      <td>NaN</td>\n",
              "      <td>NaN</td>\n",
              "      <td>NaN</td>\n",
              "      <td>NaN</td>\n",
              "      <td>NaN</td>\n",
              "      <td>NaN</td>\n",
              "      <td>NaN</td>\n",
              "      <td>NaN</td>\n",
              "      <td>NaN</td>\n",
              "      <td>NaN</td>\n",
              "      <td>Closed Successful</td>\n",
              "      <td>Unemployed /Lost Job</td>\n",
              "    </tr>\n",
              "    <tr>\n",
              "      <th>2</th>\n",
              "      <td>T1</td>\n",
              "      <td>532910451</td>\n",
              "      <td>the client is mostly  out of the country so he...</td>\n",
              "      <td>NaN</td>\n",
              "      <td>NaN</td>\n",
              "      <td>NaN</td>\n",
              "      <td>NaN</td>\n",
              "      <td>1.0</td>\n",
              "      <td>NaN</td>\n",
              "      <td>NaN</td>\n",
              "      <td>NaN</td>\n",
              "      <td>NaN</td>\n",
              "      <td>NaN</td>\n",
              "      <td>NaN</td>\n",
              "      <td>NaN</td>\n",
              "      <td>NaN</td>\n",
              "      <td>NaN</td>\n",
              "      <td>Closed Successful</td>\n",
              "      <td>Emigrating / Not in Country</td>\n",
              "    </tr>\n",
              "    <tr>\n",
              "      <th>3</th>\n",
              "      <td>T1</td>\n",
              "      <td>532974190</td>\n",
              "      <td>client is currently unemployed at the moment a...</td>\n",
              "      <td>NaN</td>\n",
              "      <td>NaN</td>\n",
              "      <td>1.0</td>\n",
              "      <td>NaN</td>\n",
              "      <td>NaN</td>\n",
              "      <td>NaN</td>\n",
              "      <td>NaN</td>\n",
              "      <td>NaN</td>\n",
              "      <td>NaN</td>\n",
              "      <td>NaN</td>\n",
              "      <td>NaN</td>\n",
              "      <td>NaN</td>\n",
              "      <td>NaN</td>\n",
              "      <td>NaN</td>\n",
              "      <td>Closed Successful</td>\n",
              "      <td>Unemployed /Lost Job</td>\n",
              "    </tr>\n",
              "    <tr>\n",
              "      <th>4</th>\n",
              "      <td>T1</td>\n",
              "      <td>532999746</td>\n",
              "      <td>client is going through a rough financial situ...</td>\n",
              "      <td>NaN</td>\n",
              "      <td>1.0</td>\n",
              "      <td>NaN</td>\n",
              "      <td>NaN</td>\n",
              "      <td>NaN</td>\n",
              "      <td>NaN</td>\n",
              "      <td>NaN</td>\n",
              "      <td>NaN</td>\n",
              "      <td>NaN</td>\n",
              "      <td>NaN</td>\n",
              "      <td>NaN</td>\n",
              "      <td>NaN</td>\n",
              "      <td>NaN</td>\n",
              "      <td>NaN</td>\n",
              "      <td>Closed Successful</td>\n",
              "      <td>Affordability</td>\n",
              "    </tr>\n",
              "  </tbody>\n",
              "</table>\n",
              "</div>"
            ],
            "text/plain": [
              "  Template  Membership Number  ...               Status                Text Analysis\n",
              "0       T1          524420912  ...  Closed Unsuccessful    Not Answered / Voice Mail\n",
              "1       T1          532863208  ...    Closed Successful         Unemployed /Lost Job\n",
              "2       T1          532910451  ...    Closed Successful  Emigrating / Not in Country\n",
              "3       T1          532974190  ...    Closed Successful         Unemployed /Lost Job\n",
              "4       T1          532999746  ...    Closed Successful                Affordability\n",
              "\n",
              "[5 rows x 19 columns]"
            ]
          },
          "metadata": {},
          "execution_count": 13
        }
      ]
    },
    {
      "cell_type": "code",
      "metadata": {
        "id": "iL2zB3uw2hAj"
      },
      "source": [
        "df = df[['Suggestions / Compliments / Complaints','Text Analysis']]"
      ],
      "execution_count": null,
      "outputs": []
    },
    {
      "cell_type": "code",
      "metadata": {
        "colab": {
          "base_uri": "https://localhost:8080/",
          "height": 204
        },
        "id": "zJejTtLJ3MLs",
        "outputId": "51ba07b4-bbbf-438a-aa1f-f2f9c32b470c"
      },
      "source": [
        "df.head()"
      ],
      "execution_count": null,
      "outputs": [
        {
          "output_type": "execute_result",
          "data": {
            "text/html": [
              "<div>\n",
              "<style scoped>\n",
              "    .dataframe tbody tr th:only-of-type {\n",
              "        vertical-align: middle;\n",
              "    }\n",
              "\n",
              "    .dataframe tbody tr th {\n",
              "        vertical-align: top;\n",
              "    }\n",
              "\n",
              "    .dataframe thead th {\n",
              "        text-align: right;\n",
              "    }\n",
              "</style>\n",
              "<table border=\"1\" class=\"dataframe\">\n",
              "  <thead>\n",
              "    <tr style=\"text-align: right;\">\n",
              "      <th></th>\n",
              "      <th>Suggestions / Compliments / Complaints</th>\n",
              "      <th>Text Analysis</th>\n",
              "    </tr>\n",
              "  </thead>\n",
              "  <tbody>\n",
              "    <tr>\n",
              "      <th>0</th>\n",
              "      <td>client was not answering her calls i am on the...</td>\n",
              "      <td>Not Answered / Voice Mail</td>\n",
              "    </tr>\n",
              "    <tr>\n",
              "      <th>1</th>\n",
              "      <td>the client is going through retrenchment and s...</td>\n",
              "      <td>Unemployed /Lost Job</td>\n",
              "    </tr>\n",
              "    <tr>\n",
              "      <th>2</th>\n",
              "      <td>the client is mostly  out of the country so he...</td>\n",
              "      <td>Emigrating / Not in Country</td>\n",
              "    </tr>\n",
              "    <tr>\n",
              "      <th>3</th>\n",
              "      <td>client is currently unemployed at the moment a...</td>\n",
              "      <td>Unemployed /Lost Job</td>\n",
              "    </tr>\n",
              "    <tr>\n",
              "      <th>4</th>\n",
              "      <td>client is going through a rough financial situ...</td>\n",
              "      <td>Affordability</td>\n",
              "    </tr>\n",
              "  </tbody>\n",
              "</table>\n",
              "</div>"
            ],
            "text/plain": [
              "              Suggestions / Compliments / Complaints                Text Analysis\n",
              "0  client was not answering her calls i am on the...    Not Answered / Voice Mail\n",
              "1  the client is going through retrenchment and s...         Unemployed /Lost Job\n",
              "2  the client is mostly  out of the country so he...  Emigrating / Not in Country\n",
              "3  client is currently unemployed at the moment a...         Unemployed /Lost Job\n",
              "4  client is going through a rough financial situ...                Affordability"
            ]
          },
          "metadata": {},
          "execution_count": 15
        }
      ]
    },
    {
      "cell_type": "markdown",
      "metadata": {
        "id": "6ogcwpQasfHP"
      },
      "source": [
        "# Checking for NULL values and removing them"
      ]
    },
    {
      "cell_type": "code",
      "metadata": {
        "colab": {
          "base_uri": "https://localhost:8080/"
        },
        "id": "E-qYsTzzvYgb",
        "outputId": "3a430834-7ad1-4851-9cec-79cca508fa0b"
      },
      "source": [
        "df['Text Analysis'].unique()"
      ],
      "execution_count": null,
      "outputs": [
        {
          "output_type": "execute_result",
          "data": {
            "text/plain": [
              "array(['Not Answered / Voice Mail', 'Unemployed /Lost Job',\n",
              "       'Emigrating / Not in Country', 'Affordability', 'Not Interested',\n",
              "       'Similar Service', 'No Comments', 'No Car / Not Driving',\n",
              "       'Hung Up', 'Separated', 'Poor Service', 'Callback Requested',\n",
              "       'Invalid No', 'Service Not Used', 'Less CallOuts'], dtype=object)"
            ]
          },
          "metadata": {},
          "execution_count": 16
        }
      ]
    },
    {
      "cell_type": "code",
      "metadata": {
        "colab": {
          "base_uri": "https://localhost:8080/"
        },
        "id": "OeSbshMRsgHT",
        "outputId": "cd32a34a-a9b3-4e3b-d3a0-994a5d90da0c"
      },
      "source": [
        "df.isnull().sum()"
      ],
      "execution_count": null,
      "outputs": [
        {
          "output_type": "execute_result",
          "data": {
            "text/plain": [
              "Suggestions / Compliments / Complaints    0\n",
              "Text Analysis                             0\n",
              "dtype: int64"
            ]
          },
          "metadata": {},
          "execution_count": 17
        }
      ]
    },
    {
      "cell_type": "code",
      "metadata": {
        "colab": {
          "base_uri": "https://localhost:8080/",
          "height": 419
        },
        "id": "svHOOdIwsqGx",
        "outputId": "bd38b782-8552-4e91-ac8b-c17e83f266cc"
      },
      "source": [
        "df.fillna(\"unknown\",axis=1)"
      ],
      "execution_count": null,
      "outputs": [
        {
          "output_type": "execute_result",
          "data": {
            "text/html": [
              "<div>\n",
              "<style scoped>\n",
              "    .dataframe tbody tr th:only-of-type {\n",
              "        vertical-align: middle;\n",
              "    }\n",
              "\n",
              "    .dataframe tbody tr th {\n",
              "        vertical-align: top;\n",
              "    }\n",
              "\n",
              "    .dataframe thead th {\n",
              "        text-align: right;\n",
              "    }\n",
              "</style>\n",
              "<table border=\"1\" class=\"dataframe\">\n",
              "  <thead>\n",
              "    <tr style=\"text-align: right;\">\n",
              "      <th></th>\n",
              "      <th>Suggestions / Compliments / Complaints</th>\n",
              "      <th>Text Analysis</th>\n",
              "    </tr>\n",
              "  </thead>\n",
              "  <tbody>\n",
              "    <tr>\n",
              "      <th>0</th>\n",
              "      <td>client was not answering her calls i am on the...</td>\n",
              "      <td>Not Answered / Voice Mail</td>\n",
              "    </tr>\n",
              "    <tr>\n",
              "      <th>1</th>\n",
              "      <td>the client is going through retrenchment and s...</td>\n",
              "      <td>Unemployed /Lost Job</td>\n",
              "    </tr>\n",
              "    <tr>\n",
              "      <th>2</th>\n",
              "      <td>the client is mostly  out of the country so he...</td>\n",
              "      <td>Emigrating / Not in Country</td>\n",
              "    </tr>\n",
              "    <tr>\n",
              "      <th>3</th>\n",
              "      <td>client is currently unemployed at the moment a...</td>\n",
              "      <td>Unemployed /Lost Job</td>\n",
              "    </tr>\n",
              "    <tr>\n",
              "      <th>4</th>\n",
              "      <td>client is going through a rough financial situ...</td>\n",
              "      <td>Affordability</td>\n",
              "    </tr>\n",
              "    <tr>\n",
              "      <th>...</th>\n",
              "      <td>...</td>\n",
              "      <td>...</td>\n",
              "    </tr>\n",
              "    <tr>\n",
              "      <th>338</th>\n",
              "      <td>the member said he cancelled because he has th...</td>\n",
              "      <td>Similar Service</td>\n",
              "    </tr>\n",
              "    <tr>\n",
              "      <th>339</th>\n",
              "      <td>Client says that we must call him after 3 mont...</td>\n",
              "      <td>Unemployed /Lost Job</td>\n",
              "    </tr>\n",
              "    <tr>\n",
              "      <th>340</th>\n",
              "      <td>there are no contact details here so i didnt call</td>\n",
              "      <td>Invalid No</td>\n",
              "    </tr>\n",
              "    <tr>\n",
              "      <th>341</th>\n",
              "      <td>client says that she cant afford she says she ...</td>\n",
              "      <td>Affordability</td>\n",
              "    </tr>\n",
              "    <tr>\n",
              "      <th>342</th>\n",
              "      <td>client says that he is getting similar service...</td>\n",
              "      <td>Similar Service</td>\n",
              "    </tr>\n",
              "  </tbody>\n",
              "</table>\n",
              "<p>343 rows × 2 columns</p>\n",
              "</div>"
            ],
            "text/plain": [
              "                Suggestions / Compliments / Complaints                Text Analysis\n",
              "0    client was not answering her calls i am on the...    Not Answered / Voice Mail\n",
              "1    the client is going through retrenchment and s...         Unemployed /Lost Job\n",
              "2    the client is mostly  out of the country so he...  Emigrating / Not in Country\n",
              "3    client is currently unemployed at the moment a...         Unemployed /Lost Job\n",
              "4    client is going through a rough financial situ...                Affordability\n",
              "..                                                 ...                          ...\n",
              "338  the member said he cancelled because he has th...              Similar Service\n",
              "339  Client says that we must call him after 3 mont...         Unemployed /Lost Job\n",
              "340  there are no contact details here so i didnt call                   Invalid No\n",
              "341  client says that she cant afford she says she ...                Affordability\n",
              "342  client says that he is getting similar service...              Similar Service\n",
              "\n",
              "[343 rows x 2 columns]"
            ]
          },
          "metadata": {},
          "execution_count": 18
        }
      ]
    },
    {
      "cell_type": "code",
      "metadata": {
        "id": "l4omUNwuwSoS"
      },
      "source": [
        "#df.isnull().sum()\n",
        "#df.cuisine.unique()"
      ],
      "execution_count": null,
      "outputs": []
    },
    {
      "cell_type": "code",
      "metadata": {
        "id": "_KBJl0_LsukU"
      },
      "source": [
        "#df.dropna(how ='all')"
      ],
      "execution_count": null,
      "outputs": []
    },
    {
      "cell_type": "code",
      "metadata": {
        "id": "201iVsaU1HXw"
      },
      "source": [
        "#sumNan = df.isna()\n",
        "#sumNan.sum()"
      ],
      "execution_count": null,
      "outputs": []
    },
    {
      "cell_type": "markdown",
      "metadata": {
        "id": "2ZJJKVvAuqku"
      },
      "source": [
        "# Dropping Duplicates"
      ]
    },
    {
      "cell_type": "code",
      "metadata": {
        "colab": {
          "base_uri": "https://localhost:8080/"
        },
        "id": "gg1oLa-NutyU",
        "outputId": "36b2c741-df2a-4539-f0a4-fe2982b0c64c"
      },
      "source": [
        "df.shape"
      ],
      "execution_count": null,
      "outputs": [
        {
          "output_type": "execute_result",
          "data": {
            "text/plain": [
              "(343, 2)"
            ]
          },
          "metadata": {},
          "execution_count": 22
        }
      ]
    },
    {
      "cell_type": "code",
      "metadata": {
        "id": "Gm7kCjeaws2_"
      },
      "source": [
        "df.drop_duplicates(inplace=True)"
      ],
      "execution_count": null,
      "outputs": []
    },
    {
      "cell_type": "code",
      "metadata": {
        "colab": {
          "base_uri": "https://localhost:8080/"
        },
        "id": "iHD28Wh3wxXP",
        "outputId": "07f4387f-d7ae-49eb-e711-973c0f0a23ae"
      },
      "source": [
        "df.shape\n"
      ],
      "execution_count": null,
      "outputs": [
        {
          "output_type": "execute_result",
          "data": {
            "text/plain": [
              "(322, 2)"
            ]
          },
          "metadata": {},
          "execution_count": 24
        }
      ]
    },
    {
      "cell_type": "markdown",
      "metadata": {
        "id": "fsY9qLoMxSnb"
      },
      "source": [
        "# Preprocessing the text"
      ]
    },
    {
      "cell_type": "code",
      "metadata": {
        "colab": {
          "base_uri": "https://localhost:8080/"
        },
        "id": "3j7SipeaxbP0",
        "outputId": "88730c94-87b0-4c38-eecb-b4e889238bb3"
      },
      "source": [
        "print(df['Suggestions / Compliments / Complaints'].apply(lambda x: len(x.split(' '))).sum())"
      ],
      "execution_count": null,
      "outputs": [
        {
          "output_type": "stream",
          "name": "stdout",
          "text": [
            "6066\n"
          ]
        }
      ]
    },
    {
      "cell_type": "code",
      "metadata": {
        "id": "THk4JXFQxUeo"
      },
      "source": [
        "special_character_remover = re.compile('[/(){}\\[\\]\\|@,;]')\n",
        "extra_symbol_remover = re.compile('[^0-9a-z #+_]')\n",
        "STOPWORDS = set(stopwords.words('english'))"
      ],
      "execution_count": null,
      "outputs": []
    },
    {
      "cell_type": "markdown",
      "metadata": {
        "id": "KBAlm0ZL-59E"
      },
      "source": [
        "## Stemming and Lemmatization"
      ]
    },
    {
      "cell_type": "code",
      "metadata": {
        "id": "FZnUEF5R-9go"
      },
      "source": [
        ""
      ],
      "execution_count": null,
      "outputs": []
    },
    {
      "cell_type": "code",
      "metadata": {
        "id": "OGQcm-7Gx31I"
      },
      "source": [
        "def clean_text(text):\n",
        "    text = text.lower()\n",
        "    text = special_character_remover.sub(' ', text)\n",
        "    text = extra_symbol_remover.sub('', text)\n",
        "    text = ' '.join(word for word in text.split() if word not in STOPWORDS)\n",
        "    return text\n",
        "    \n",
        "df['Suggestions / Compliments / Complaints'] = df['Suggestions / Compliments / Complaints'].apply(clean_text)"
      ],
      "execution_count": null,
      "outputs": []
    },
    {
      "cell_type": "code",
      "metadata": {
        "colab": {
          "base_uri": "https://localhost:8080/"
        },
        "id": "Qbj59SI9x68a",
        "outputId": "25f1f0d2-903f-4b2f-c844-1b50fe525b49"
      },
      "source": [
        "print(df['Suggestions / Compliments / Complaints'].apply(lambda x: len(x.split(' '))).sum())"
      ],
      "execution_count": null,
      "outputs": [
        {
          "output_type": "stream",
          "name": "stdout",
          "text": [
            "2911\n"
          ]
        }
      ]
    },
    {
      "cell_type": "markdown",
      "metadata": {
        "id": "U6ZilaS_y2e4"
      },
      "source": [
        "# Train Test Split"
      ]
    },
    {
      "cell_type": "code",
      "metadata": {
        "id": "jkYFLWQzy6h5"
      },
      "source": [
        "from sklearn.model_selection import train_test_split\n",
        "X = df['Suggestions / Compliments / Complaints']\n",
        "y = df['Text Analysis']\n",
        "X_train, X_test, y_train, y_test = train_test_split(X, y, test_size=0.3, random_state = 42)"
      ],
      "execution_count": null,
      "outputs": []
    },
    {
      "cell_type": "code",
      "metadata": {
        "colab": {
          "base_uri": "https://localhost:8080/"
        },
        "id": "KWp8lemO4Tke",
        "outputId": "94d686e4-d59e-4783-c439-66be90a1809c"
      },
      "source": [
        "X_train.shape,X_test.shape,y_train.shape,y_test.shape"
      ],
      "execution_count": null,
      "outputs": [
        {
          "output_type": "execute_result",
          "data": {
            "text/plain": [
              "((225,), (97,), (225,), (97,))"
            ]
          },
          "metadata": {},
          "execution_count": 30
        }
      ]
    },
    {
      "cell_type": "markdown",
      "metadata": {
        "id": "6GhinUN0zxpN"
      },
      "source": [
        "# Logictic Regression"
      ]
    },
    {
      "cell_type": "code",
      "metadata": {
        "colab": {
          "base_uri": "https://localhost:8080/"
        },
        "id": "3hmO1xkWz1Q6",
        "outputId": "cd7dd984-52fb-49f5-cffa-8a3011331102"
      },
      "source": [
        "from sklearn.linear_model import LogisticRegression\n",
        "from sklearn.pipeline import Pipeline\n",
        "from sklearn.feature_extraction.text import TfidfTransformer\n",
        "\n",
        "lr = Pipeline([('vect', CountVectorizer()),('tfidf', TfidfTransformer()),('clf', LogisticRegression()),])\n",
        "\n",
        "lr.fit(X_train,y_train)\n",
        "y_pred1 = lr.predict(X_test)\n",
        "\n",
        "print(f\"Accuracy is : {accuracy_score(y_pred1,y_test)}\")"
      ],
      "execution_count": null,
      "outputs": [
        {
          "output_type": "stream",
          "name": "stdout",
          "text": [
            "Accuracy is : 0.6391752577319587\n"
          ]
        }
      ]
    },
    {
      "cell_type": "markdown",
      "metadata": {
        "id": "J2jBL0Cn5GqU"
      },
      "source": [
        "# Logistic Regression Metrics"
      ]
    },
    {
      "cell_type": "code",
      "metadata": {
        "id": "CLdeI7RO7XY7"
      },
      "source": [
        "from sklearn import metrics "
      ],
      "execution_count": null,
      "outputs": []
    },
    {
      "cell_type": "code",
      "metadata": {
        "colab": {
          "base_uri": "https://localhost:8080/"
        },
        "id": "pgeL-UE58PFS",
        "outputId": "1b290f42-b9f9-4ea0-cb1d-eb80f3a3fe84"
      },
      "source": [
        "print (f\"Accuracy: {round(metrics.accuracy_score(y_test,y_pred1)*100,2)}%\")\n",
        "print (f\"Precision Score: {round(metrics.precision_score(y_test,y_pred1,pos_label='positive', average='micro')*100,2)}%\")\n",
        "print (f\"Recall: { round(metrics.recall_score(y_test,y_pred1,pos_label='positive',average='micro')*100,2)} %\" )\n",
        "\n",
        "print(metrics.classification_report(y_test, y_pred1))"
      ],
      "execution_count": null,
      "outputs": [
        {
          "output_type": "stream",
          "name": "stdout",
          "text": [
            "Accuracy: 63.92%\n",
            "Precision Score: 63.92%\n",
            "Recall: 63.92 %\n",
            "                           precision    recall  f1-score   support\n",
            "\n",
            "            Affordability       0.62      0.56      0.59         9\n",
            "       Callback Requested       0.00      0.00      0.00         2\n",
            "                  Hung Up       0.50      0.40      0.44         5\n",
            "               Invalid No       1.00      0.60      0.75         5\n",
            "     No Car / Not Driving       1.00      0.60      0.75         5\n",
            "              No Comments       1.00      0.27      0.43        11\n",
            "Not Answered / Voice Mail       0.67      0.93      0.78        15\n",
            "           Not Interested       0.71      0.80      0.75        15\n",
            "             Poor Service       0.00      0.00      0.00         3\n",
            "                Separated       0.00      0.00      0.00         1\n",
            "          Similar Service       0.47      1.00      0.64        16\n",
            "     Unemployed /Lost Job       1.00      0.40      0.57        10\n",
            "\n",
            "                 accuracy                           0.64        97\n",
            "                macro avg       0.58      0.46      0.48        97\n",
            "             weighted avg       0.69      0.64      0.60        97\n",
            "\n"
          ]
        },
        {
          "output_type": "stream",
          "name": "stderr",
          "text": [
            "/usr/local/lib/python3.7/dist-packages/sklearn/metrics/_classification.py:1321: UserWarning: Note that pos_label (set to 'positive') is ignored when average != 'binary' (got 'micro'). You may use labels=[pos_label] to specify a single positive class.\n",
            "  % (pos_label, average), UserWarning)\n",
            "/usr/local/lib/python3.7/dist-packages/sklearn/metrics/_classification.py:1272: UndefinedMetricWarning: Precision and F-score are ill-defined and being set to 0.0 in labels with no predicted samples. Use `zero_division` parameter to control this behavior.\n",
            "  _warn_prf(average, modifier, msg_start, len(result))\n"
          ]
        }
      ]
    },
    {
      "cell_type": "markdown",
      "metadata": {
        "id": "-kdn3MCLEJd5"
      },
      "source": [
        "# Confusion Matrix"
      ]
    },
    {
      "cell_type": "code",
      "metadata": {
        "colab": {
          "base_uri": "https://localhost:8080/"
        },
        "id": "W_-AuKo6ENoy",
        "outputId": "293c574e-a48d-4037-eb42-3699aa6ba694"
      },
      "source": [
        "from sklearn.metrics import confusion_matrix\n",
        "matrix = confusion_matrix(y_test, y_pred1)\n",
        "print(matrix)"
      ],
      "execution_count": null,
      "outputs": [
        {
          "output_type": "stream",
          "name": "stdout",
          "text": [
            "[[ 5  0  0  0  0  0  0  0  0  0  4  0]\n",
            " [ 0  0  1  0  0  0  1  0  0  0  0  0]\n",
            " [ 0  0  2  0  0  0  3  0  0  0  0  0]\n",
            " [ 0  0  0  3  0  0  2  0  0  0  0  0]\n",
            " [ 0  0  0  0  3  0  0  0  0  0  2  0]\n",
            " [ 0  0  0  0  0  3  0  3  0  0  5  0]\n",
            " [ 0  0  0  0  0  0 14  0  0  0  1  0]\n",
            " [ 0  0  1  0  0  0  0 12  0  0  2  0]\n",
            " [ 0  0  0  0  0  0  0  2  0  0  1  0]\n",
            " [ 0  0  0  0  0  0  1  0  0  0  0  0]\n",
            " [ 0  0  0  0  0  0  0  0  0  0 16  0]\n",
            " [ 3  0  0  0  0  0  0  0  0  0  3  4]]\n"
          ]
        }
      ]
    },
    {
      "cell_type": "code",
      "metadata": {
        "colab": {
          "base_uri": "https://localhost:8080/"
        },
        "id": "oYkFU8AaGQCd",
        "outputId": "238a0cd4-80d3-4d04-fdcb-fbf4ce4a5d2d"
      },
      "source": [
        "# Defining Accuracy as the sum of all the values in the diagonal over the total number of observations\n",
        "correctPredictions = sum(matrix[i][i] for i in range(len(matrix)))\n",
        "print(correctPredictions)\n",
        "print(f'Number of observations: {len(y_test)}')\n",
        "print(\"Accuracy: {:.2}\".format(correctPredictions / len(y_test)))"
      ],
      "execution_count": null,
      "outputs": [
        {
          "output_type": "stream",
          "name": "stdout",
          "text": [
            "62\n",
            "Number of observations: 97\n",
            "Accuracy: 0.64\n"
          ]
        }
      ]
    },
    {
      "cell_type": "markdown",
      "metadata": {
        "id": "0zcd2i3G5Yf3"
      },
      "source": [
        "# Testing With Logistic Regression"
      ]
    },
    {
      "cell_type": "code",
      "metadata": {
        "colab": {
          "base_uri": "https://localhost:8080/"
        },
        "id": "rMysH-qi4p66",
        "outputId": "d185f6be-a399-40f5-d78b-dfd74d059817"
      },
      "source": [
        "x = ['Unfortunately client does not have a car at the moment']\n",
        "y_ = lr.predict(x)\n",
        "print(y_)"
      ],
      "execution_count": null,
      "outputs": [
        {
          "output_type": "stream",
          "name": "stdout",
          "text": [
            "['No Car / Not Driving']\n"
          ]
        }
      ]
    },
    {
      "cell_type": "markdown",
      "metadata": {
        "id": "pGk4EgtX5lP7"
      },
      "source": [
        "# Naive Bayes Classifier"
      ]
    },
    {
      "cell_type": "code",
      "metadata": {
        "colab": {
          "base_uri": "https://localhost:8080/"
        },
        "id": "RVy_gUem5pBv",
        "outputId": "661493da-5434-47bf-d611-590c2bbdc15a"
      },
      "source": [
        "from sklearn.naive_bayes import MultinomialNB\n",
        "\n",
        "naivebayes = Pipeline([('vect', CountVectorizer()),('tfidf', TfidfTransformer()),('clf', MultinomialNB()),])\n",
        "naivebayes.fit(X_train, y_train)\n",
        "\n",
        "y_pred = naivebayes.predict(X_test)\n",
        "\n",
        "print(f'accuracy {accuracy_score(y_pred,y_test)}')"
      ],
      "execution_count": null,
      "outputs": [
        {
          "output_type": "stream",
          "name": "stdout",
          "text": [
            "accuracy 0.4948453608247423\n"
          ]
        }
      ]
    },
    {
      "cell_type": "markdown",
      "metadata": {
        "id": "EicPSRYB8XEK"
      },
      "source": [
        "# Applying Xgboost Classifier"
      ]
    },
    {
      "cell_type": "code",
      "metadata": {
        "colab": {
          "base_uri": "https://localhost:8080/"
        },
        "id": "fe0bbtsv8SGR",
        "outputId": "49dfae90-71e4-4cf9-d3af-1f881c1cca85"
      },
      "source": [
        "from xgboost import XGBClassifier\n",
        "\n",
        "xgboost = Pipeline([('vect', CountVectorizer()),\n",
        "               ('tfidf', TfidfTransformer()),\n",
        "               ('clf', XGBClassifier()),\n",
        "              ])\n",
        "xgboost.fit(X_train, y_train)\n",
        "\n",
        "y_pred = xgboost.predict(X_test)\n",
        "\n",
        "print(f'accuracy {accuracy_score(y_pred,y_test)}')"
      ],
      "execution_count": null,
      "outputs": [
        {
          "output_type": "stream",
          "name": "stdout",
          "text": [
            "accuracy 0.6494845360824743\n"
          ]
        }
      ]
    },
    {
      "cell_type": "code",
      "metadata": {
        "colab": {
          "base_uri": "https://localhost:8080/"
        },
        "id": "Oh-2nSkkCJ1P",
        "outputId": "6eeed5a2-4e16-4b6f-a236-f6c5d4141194"
      },
      "source": [
        "x = ['Unfortunately client does not have a car at the moment']\n",
        "y_ = xgboost.predict(x)\n",
        "print(y_)"
      ],
      "execution_count": null,
      "outputs": [
        {
          "output_type": "stream",
          "name": "stdout",
          "text": [
            "['No Car / Not Driving']\n"
          ]
        }
      ]
    },
    {
      "cell_type": "markdown",
      "metadata": {
        "id": "bhuCQ4TTM8Lo"
      },
      "source": [
        "# Save model\n",
        "import pickle\n",
        "with open('model.pkl','wb') as f:\n",
        "    pickle.dump(text_clf,f\n",
        "\n",
        "# load model    \n",
        "# load\n",
        "with open('model.pkl', 'rb') as f:\n",
        "    clf2 = pickle.load(f)\n",
        "\n",
        "docs_new = ['Ten Months After George Floyd’s Death, Minneapolis Residents Are at War Over Policing']\n",
        "predicted = clf2.predict(docs_new)\n",
        "\n",
        "v[predicted[0]]"
      ]
    }
  ]
}